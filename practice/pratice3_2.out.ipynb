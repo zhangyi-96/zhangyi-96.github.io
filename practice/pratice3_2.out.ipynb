{
  "cells": [
    {
      "cell_type": "markdown",
      "metadata": {},
      "source": [
        "#"
      ],
      "id": "faa0234f-a59b-41aa-b53a-102781ba7d1a"
    },
    {
      "cell_type": "code",
      "execution_count": 2,
      "metadata": {},
      "outputs": [],
      "source": [
        "from bs4 import BeautifulSoup\n",
        "import requests\n",
        "import re\n",
        "import pandas as pd"
      ],
      "id": "cell-0"
    },
    {
      "cell_type": "code",
      "execution_count": null,
      "metadata": {},
      "outputs": [
        {
          "output_type": "stream",
          "name": "stdout",
          "text": [
            "[]"
          ]
        }
      ],
      "source": [
        "# Downloading imdb top 250 movie's data\n",
        "url = 'http://www.imdb.com/chart/top'\n",
        "headers = {\n",
        "    \"user-agent\":\"Mozilla/5.0 (Windows NT 10.0; Win64; x64) AppleWebKit/537.36 (KHTML, like Gecko) Chrome/131.0.0.0 Safari/537.36 Edg/131.0.0.0\"\n",
        "}\n",
        "response = requests.get(url,headers=headers)\n",
        "soup = BeautifulSoup(response.text, \"html.parser\")\n",
        "movies = soup.find_all('div',class_=\"sc-300a8231-0 gTnHyA cli-children\")\n",
        "ratings = soup.find_all(\"span\",class_=\"ipc-rating-star--rating\")\n"
      ],
      "id": "cell-1"
    },
    {
      "cell_type": "code",
      "execution_count": 20,
      "metadata": {},
      "outputs": [
        {
          "output_type": "stream",
          "name": "stdout",
          "text": [
            "1 -  The Shawshank Redemption (1994) - Starring: 9.3\n",
            "2 -  The Godfather (1972) - Starring: 9.2\n",
            "3 -  The Dark Knight (2008) - Starring: 9.0\n",
            "4 -  The Godfather Part II (1974) - Starring: 9.0\n",
            "5 -  12 Angry Men (1957) - Starring: 9.0\n",
            "6 -  The Lord of the Rings: The Return of the King (2003) - Starring: 9.0\n",
            "7 -  Schindler's List (1993) - Starring: 9.0\n",
            "8 -  Pulp Fiction (1994) - Starring: 8.9\n",
            "9 -  The Lord of the Rings: The Fellowship of the Ring (2001) - Starring: 8.9\n",
            "10 -  Il buono, il brutto, il cattivo (1966) - Starring: 8.8\n",
            "11 -  Forrest Gump (1994) - Starring: 8.8\n",
            "12 -  The Lord of the Rings: The Two Towers (2002) - Starring: 8.8\n",
            "13 -  Fight Club (1999) - Starring: 8.8\n",
            "14 -  Inception (2010) - Starring: 8.8\n",
            "15 -  Star Wars: Episode V - The Empire Strikes Back (1980) - Starring: 8.7\n",
            "16 -  The Matrix (1999) - Starring: 8.7\n",
            "17 -  Goodfellas (1990) - Starring: 8.7\n",
            "18 -  One Flew Over the Cuckoo's Nest (1975) - Starring: 8.7\n",
            "19 -  Interstellar (2014) - Starring: 8.7\n",
            "20 -  Se7en (1995) - Starring: 8.6\n",
            "21 -  It's a Wonderful Life (1946) - Starring: 8.6\n",
            "22 -  Shichinin no samurai (1954) - Starring: 8.6\n",
            "23 -  The Silence of the Lambs (1991) - Starring: 8.6\n",
            "24 -  Saving Private Ryan (1998) - Starring: 8.6\n",
            "25 -  Cidade de Deus (2002) - Starring: 8.6"
          ]
        }
      ],
      "source": [
        "list = []\n",
        "\n",
        "for index in range(0, len(movies)):\n",
        "    \n",
        "    movie_string = movies[index].find(\"h3\",class_='ipc-title__text').get_text()\n",
        "    movie_title = movie_string.split(\".\")[1]\n",
        "    place = movie_string.split(\".\")[0]\n",
        "    year = movies[index].find(\"span\",class_='sc-300a8231-7 eaXxft cli-title-metadata-item').get_text()\n",
        "    \n",
        "    data = {\"place\": place,\n",
        "            \"movie_title\": movie_title,\n",
        "            \"rating\": ratings[index].get_text(),\n",
        "            \"year\": year,\n",
        "            }\n",
        "    list.append(data)\n",
        "for movie in list:\n",
        "    print(movie['place'], '-', movie['movie_title'], '('+movie['year'] +\n",
        "        ') -', 'Starring:', movie['rating'])\n",
        "#saving the list as dataframe\n",
        "#then converting into .csv file\n",
        "df = pd.DataFrame(list)\n",
        "df.to_csv('imdb_top_250_movies.csv',index=False)\n"
      ],
      "id": "cell-2"
    }
  ],
  "nbformat": 4,
  "nbformat_minor": 5,
  "metadata": {
    "kernelspec": {
      "name": "python3",
      "display_name": "Python 3",
      "language": "python"
    },
    "language_info": {
      "name": "python",
      "codemirror_mode": {
        "name": "ipython",
        "version": "3"
      },
      "file_extension": ".py",
      "mimetype": "text/x-python",
      "nbconvert_exporter": "python",
      "pygments_lexer": "ipython3",
      "version": "3.7.0"
    }
  }
}