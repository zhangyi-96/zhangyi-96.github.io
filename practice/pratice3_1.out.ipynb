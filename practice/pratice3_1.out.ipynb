{
  "cells": [
    {
      "cell_type": "markdown",
      "metadata": {},
      "source": [
        "#"
      ],
      "id": "1ee79dd3-dec8-4f37-a859-e013280aad27"
    },
    {
      "cell_type": "code",
      "execution_count": 1,
      "metadata": {},
      "outputs": [],
      "source": [
        "import matplotlib.pyplot as plt\n",
        "import pandas as pd\n",
        "import requests\n",
        "from bs4 import BeautifulSoup\n",
        "import textwrap"
      ],
      "id": "cell-0"
    },
    {
      "cell_type": "code",
      "execution_count": 2,
      "metadata": {},
      "outputs": [
        {
          "output_type": "display_data",
          "metadata": {},
          "data": {
            "text/html": [
              "\n",
              "</div>"
            ]
          }
        }
      ],
      "source": [
        "pd.read_csv(\n",
        "    \"https://vincentarelbundock.github.io/Rdatasets/csv/dplyr/storms.csv\", nrows=10\n",
        ")"
      ],
      "id": "cell-1"
    },
    {
      "cell_type": "code",
      "execution_count": null,
      "metadata": {},
      "outputs": [],
      "source": [
        "import requests\n",
        "\n",
        "url = \"https://api.ons.gov.uk/timeseries/JP9Z/dataset/UNEM/data\"\n",
        "\n",
        "# Get the data from the ONS API:\n",
        "json_data = requests.get(url).json()\n",
        "\n",
        "# Prep the data for a quick plot\n",
        "title = json_data[\"description\"][\"title\"]\n",
        "df = (\n",
        "    pd.DataFrame(pd.json_normalize(json_data[\"months\"]))\n",
        "    .assign(\n",
        "        date=lambda x: pd.to_datetime(x[\"date\"]),\n",
        "        value=lambda x: pd.to_numeric(x[\"value\"]),\n",
        "    )\n",
        "    .set_index(\"date\")\n",
        ")\n",
        "\n",
        "df[\"value\"].plot(title=title, ylim=(0, df[\"value\"].max() * 1.2), lw=3.0);"
      ],
      "id": "cell-2"
    },
    {
      "cell_type": "code",
      "execution_count": null,
      "metadata": {},
      "outputs": [],
      "source": [
        "from pandas_datareader import wb\n",
        "df = wb.download(\n",
        "    indicator=\"EN.ATM.CO2E.PC\",\n",
        "    country=[\"US\", \"CHN\", \"IND\", \"Z4\", \"Z7\"],\n",
        "    start=2017,\n",
        "    end=2017,\n",
        ")\n",
        "# remove country as index for ease of plotting with seaborn\n",
        "df = df.reset_index()\n",
        "# wrap long country names\n",
        "df[\"country\"] = df[\"country\"].apply(lambda x: textwrap.fill(x, 10))\n",
        "# order based on size\n",
        "df = df.sort_values(\"EN.ATM.CO2E.PC\")\n",
        "df.head()"
      ],
      "id": "cell-3"
    },
    {
      "cell_type": "code",
      "execution_count": null,
      "metadata": {},
      "outputs": [],
      "source": [
        "import seaborn as sns\n",
        "\n",
        "fig, ax = plt.subplots()\n",
        "sns.barplot(x=\"country\", y=\"EN.ATM.CO2E.PC\", data=df.reset_index(), ax=ax)\n",
        "ax.set_title(r\"CO$_2$ (metric tons per capita)\", loc=\"right\")\n",
        "plt.suptitle(\"The USA leads the world on per-capita emissions\", y=1.01)\n",
        "for key, spine in ax.spines.items():\n",
        "    spine.set_visible(False)\n",
        "ax.set_ylabel(\"\")\n",
        "ax.set_xlabel(\"\")\n",
        "ax.yaxis.tick_right()\n",
        "plt.show()"
      ],
      "id": "cell-4"
    },
    {
      "cell_type": "code",
      "execution_count": null,
      "metadata": {},
      "outputs": [],
      "source": [
        "import pandasdmx as pdmx\n",
        "# Tell pdmx we want OECD data\n",
        "oecd = pdmx.Request(\"OECD\")\n",
        "# Set out everything about the request in the format specified by the OECD API\n",
        "data = oecd.data(\n",
        "    resource_id=\"PDB_LV\",\n",
        "    key=\"GBR+FRA+CAN+ITA+DEU+JPN+USA.T_GDPEMP.CPC/all?startTime=2010\",\n",
        ").to_pandas()\n",
        "\n",
        "df = pd.DataFrame(data).reset_index()\n",
        "df.head()"
      ],
      "id": "cell-5"
    },
    {
      "cell_type": "code",
      "execution_count": null,
      "metadata": {},
      "outputs": [],
      "source": [
        "url = \"http://aeturrell.com/research\"\n",
        "page = requests.get(url)\n",
        "page.text[:300]"
      ],
      "id": "cell-6"
    },
    {
      "cell_type": "code",
      "execution_count": null,
      "metadata": {},
      "outputs": [],
      "source": [
        "soup = BeautifulSoup(page.text, \"html.parser\")\n",
        "print(soup.prettify()[60000:60500])"
      ],
      "id": "cell-7"
    },
    {
      "cell_type": "code",
      "execution_count": null,
      "metadata": {},
      "outputs": [],
      "source": [
        "# Get all paragraphs\n",
        "all_paras = soup.find_all(\"p\")\n",
        "# Just show one of the paras\n",
        "all_paras[1]"
      ],
      "id": "cell-8"
    },
    {
      "cell_type": "code",
      "execution_count": null,
      "metadata": {},
      "outputs": [],
      "source": [
        "all_paras[1].text"
      ],
      "id": "cell-9"
    },
    {
      "cell_type": "code",
      "execution_count": null,
      "metadata": {},
      "outputs": [],
      "source": [
        "projects = soup.find_all(\"div\", class_=\"project-content listing-pub-info\")\n",
        "projects = [x.text.strip() for x in projects]\n",
        "projects[:4]"
      ],
      "id": "cell-10"
    },
    {
      "cell_type": "code",
      "execution_count": null,
      "metadata": {},
      "outputs": [],
      "source": [
        "start, stop = 0, 50\n",
        "root_url = \"www.codingforeconomists.com/page=\"\n",
        "info_on_pages = [scraper(root_url + str(i)) for i in range(start, stop)]"
      ],
      "id": "cell-11"
    },
    {
      "cell_type": "code",
      "execution_count": null,
      "metadata": {},
      "outputs": [],
      "source": [
        "df_list = pd.read_html(\n",
        "    \"https://simple.wikipedia.org/wiki/FIFA_World_Cup\", match=\"Sweden\"\n",
        ")\n",
        "# Retrieve first and only entry from list of dataframes\n",
        "df = df_list[0]\n",
        "df.head()"
      ],
      "id": "cell-12"
    },
    {
      "cell_type": "code",
      "execution_count": null,
      "metadata": {},
      "outputs": [],
      "source": [
        "import pdftotext\n",
        "from pathlib import Path\n",
        "\n",
        "# Download the pdf_with_table.pdf file from\n",
        "# https://github.com/aeturrell/coding-for-economists/blob/main/data/pdf_with_table.pdf\n",
        "# and put it in a subfolder called data before running the next line\n",
        "\n",
        "# Load the PDF\n",
        "with open(Path(\"data/pdf_with_table.pdf\"), \"rb\") as f:\n",
        "    pdf = pdftotext.PDF(f)\n",
        "\n",
        "# Read all the text into one string; print a chunk of the string\n",
        "print(\"\\n\\n\".join(pdf)[:220])"
      ],
      "id": "cell-13"
    },
    {
      "cell_type": "code",
      "execution_count": null,
      "metadata": {},
      "outputs": [],
      "source": [
        "import camelot\n",
        "# Grab the pdf\n",
        "tables = camelot.read_pdf(os.path.join('data', 'pdf_with_table.pdf'))"
      ],
      "id": "cell-14"
    },
    {
      "cell_type": "code",
      "execution_count": null,
      "metadata": {},
      "outputs": [],
      "source": [
        "import textract\n",
        "text = textract.process(Path('path/to/file.extension'))"
      ],
      "id": "cell-15"
    }
  ],
  "nbformat": 4,
  "nbformat_minor": 5,
  "metadata": {
    "kernelspec": {
      "name": "python3",
      "display_name": "Python 3",
      "language": "python"
    },
    "language_info": {
      "name": "python",
      "codemirror_mode": {
        "name": "ipython",
        "version": "3"
      },
      "file_extension": ".py",
      "mimetype": "text/x-python",
      "nbconvert_exporter": "python",
      "pygments_lexer": "ipython3",
      "version": "3.7.0"
    }
  }
}