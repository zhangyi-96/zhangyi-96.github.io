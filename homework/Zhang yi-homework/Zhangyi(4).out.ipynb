{
  "cells": [
    {
      "cell_type": "markdown",
      "metadata": {},
      "source": [
        "#"
      ],
      "id": "6ce0cf0b-6278-44b5-a143-dd85aa259986"
    },
    {
      "cell_type": "code",
      "execution_count": null,
      "metadata": {},
      "outputs": [],
      "source": [
        "# %load Zhangyi(4).py\n",
        "import pandas as pd\n",
        "import matplotlib.pyplot as plt\n",
        "import seaborn as sns\n",
        "\n",
        "# 读取 CSV 文件\n",
        "df = pd.read_csv('plastic-waste.csv')\n",
        "\n",
        "# 清理数据：去除缺失值\n",
        "df_cleaned = df.dropna(subset=['total_pop', 'coastal_pop', 'plastic_waste_per_cap'])\n",
        "\n",
        "# 创建两个子图\n",
        "fig, axes = plt.subplots(1, 2, figsize=(14, 6))\n",
        "\n",
        "# 人均塑料垃圾与总人口的关系\n",
        "sns.scatterplot(x='total_pop', y='plastic_waste_per_cap', data=df_cleaned, ax=axes[0])\n",
        "axes[0].set_title(\"Plastic Waste Per Capita vs. Total Population\")\n",
        "axes[0].set_xlabel(\"Total Population\")\n",
        "axes[0].set_ylabel(\"Plastic Waste Per Capita (kg)\")\n",
        "\n",
        "# 人均塑料垃圾与沿海人口的关系\n",
        "sns.scatterplot(x='coastal_pop', y='plastic_waste_per_cap', data=df_cleaned, ax=axes[1])\n",
        "axes[1].set_title(\"Plastic Waste Per Capita vs. Coastal Population\")\n",
        "axes[1].set_xlabel(\"Coastal Population\")\n",
        "axes[1].set_ylabel(\"Plastic Waste Per Capita (kg)\")\n",
        "\n",
        "# 显示图形\n",
        "plt.tight_layout()\n",
        "plt.show()"
      ],
      "id": "82cfb581-5db4-42a7-a050-19ff87f544e3"
    }
  ],
  "nbformat": 4,
  "nbformat_minor": 5,
  "metadata": {
    "kernelspec": {
      "name": "python3",
      "display_name": "Python 3 (ipykernel)",
      "language": "python"
    },
    "language_info": {
      "name": "python",
      "codemirror_mode": {
        "name": "ipython",
        "version": "3"
      },
      "file_extension": ".py",
      "mimetype": "text/x-python",
      "nbconvert_exporter": "python",
      "pygments_lexer": "ipython3",
      "version": "3.12.4"
    }
  }
}