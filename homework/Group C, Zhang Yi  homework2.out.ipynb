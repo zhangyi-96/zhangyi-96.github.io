{
  "cells": [
    {
      "cell_type": "markdown",
      "metadata": {},
      "source": [
        "#"
      ],
      "id": "ea7716ba-d89f-4034-884b-cbaad371af17"
    },
    {
      "cell_type": "code",
      "execution_count": 1,
      "metadata": {},
      "outputs": [],
      "source": [
        "import pandas as pd\n",
        "df = pd.read_csv('seattle_pet_licenses.csv')"
      ],
      "id": "cell-0"
    },
    {
      "cell_type": "code",
      "execution_count": 4,
      "metadata": {},
      "outputs": [
        {
          "output_type": "display_data",
          "metadata": {},
          "data": {
            "text/html": [
              "\n",
              "<p>66042 rows × 7 columns</p>\n",
              "</div>"
            ]
          }
        }
      ],
      "source": [
        "df"
      ],
      "id": "cell-1"
    },
    {
      "cell_type": "code",
      "execution_count": 5,
      "metadata": {},
      "outputs": [
        {
          "output_type": "stream",
          "name": "stdout",
          "text": [
            "<class 'pandas.core.frame.DataFrame'>\n",
            "RangeIndex: 66042 entries, 0 to 66041\n",
            "Data columns (total 7 columns):\n",
            " #   Column              Non-Null Count  Dtype  \n",
            "---  ------              --------------  -----  \n",
            " 0   animal_s_name       64685 non-null  object \n",
            " 1   license_issue_date  66042 non-null  object \n",
            " 2   license_number      43885 non-null  float64\n",
            " 3   primary_breed       66042 non-null  object \n",
            " 4   secondary_breed     22538 non-null  object \n",
            " 5   species             66042 non-null  object \n",
            " 6   zip_code            65884 non-null  object \n",
            "dtypes: float64(1), object(6)\n",
            "memory usage: 3.5+ MB"
          ]
        }
      ],
      "source": [
        "df.info()"
      ],
      "id": "cell-2"
    },
    {
      "cell_type": "code",
      "execution_count": 6,
      "metadata": {},
      "outputs": [
        {
          "output_type": "display_data",
          "metadata": {},
          "data": {
            "text/plain": [
              "animal_s_name\n",
              "Lucy          566\n",
              "Bella         451\n",
              "Charlie       447\n",
              "Max           374\n",
              "Luna          361\n",
              "             ... \n",
              "Manasseh        1\n",
              "Taba            1\n",
              "Miriam          1\n",
              "Number Six      1\n",
              "Rollins         1\n",
              "Name: count, Length: 15795, dtype: int64"
            ]
          }
        }
      ],
      "source": [
        "df['animal_s_name'].value_counts()"
      ],
      "id": "cell-3"
    }
  ],
  "nbformat": 4,
  "nbformat_minor": 5,
  "metadata": {
    "kernelspec": {
      "name": "python3",
      "display_name": "Python 3",
      "language": "python"
    },
    "language_info": {
      "name": "python",
      "codemirror_mode": {
        "name": "ipython",
        "version": "3"
      },
      "file_extension": ".py",
      "mimetype": "text/x-python",
      "nbconvert_exporter": "python",
      "pygments_lexer": "ipython3",
      "version": "3.11.9"
    }
  }
}