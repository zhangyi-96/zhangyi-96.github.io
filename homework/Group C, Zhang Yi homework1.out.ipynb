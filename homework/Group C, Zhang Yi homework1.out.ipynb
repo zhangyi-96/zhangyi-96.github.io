{
  "cells": [
    {
      "cell_type": "markdown",
      "metadata": {},
      "source": [
        "#"
      ],
      "id": "532964cb-805c-4ecd-8232-b27781b848e9"
    },
    {
      "cell_type": "code",
      "execution_count": 1,
      "metadata": {},
      "outputs": [
        {
          "output_type": "stream",
          "name": "stdout",
          "text": [
            "   id       firstname    surname  year category  \\\n",
            "0   1  Wilhelm Conrad    Röntgen  1901  Physics   \n",
            "1   2      Hendrik A.    Lorentz  1902  Physics   \n",
            "2   3          Pieter     Zeeman  1902  Physics   \n",
            "3   4           Henri  Becquerel  1903  Physics   \n",
            "4   5          Pierre      Curie  1903  Physics   \n",
            "\n",
            "                                         affiliation       city      country  \\\n",
            "0                                  Munich University     Munich      Germany   \n",
            "1                                  Leiden University     Leiden  Netherlands   \n",
            "2                               Amsterdam University  Amsterdam  Netherlands   \n",
            "3                                École Polytechnique      Paris       France   \n",
            "4  École municipale de physique et de chimie indu...      Paris       France   \n",
            "\n",
            "    born_date   died_date  ... died_country_code overall_motivation share  \\\n",
            "0  1845-03-27  1923-02-10  ...                DE                NaN     1   \n",
            "1  1853-07-18  1928-02-04  ...                NL                NaN     2   \n",
            "2  1865-05-25  1943-10-09  ...                NL                NaN     2   \n",
            "3  1852-12-15  1908-08-25  ...                FR                NaN     2   \n",
            "4  1859-05-15  1906-04-19  ...                FR                NaN     4   \n",
            "\n",
            "                                          motivation  born_country_original  \\\n",
            "0  \"in recognition of the extraordinary services ...  Prussia (now Germany)   \n",
            "1  \"in recognition of the extraordinary service t...        the Netherlands   \n",
            "2  \"in recognition of the extraordinary service t...        the Netherlands   \n",
            "3  \"in recognition of the extraordinary services ...                 France   \n",
            "4  \"in recognition of the extraordinary services ...                 France   \n",
            "\n",
            "       born_city_original died_country_original died_city_original  \\\n",
            "0  Lennep (now Remscheid)               Germany             Munich   \n",
            "1                  Arnhem       the Netherlands                NaN   \n",
            "2              Zonnemaire       the Netherlands          Amsterdam   \n",
            "3                   Paris                France                NaN   \n",
            "4                   Paris                France              Paris   \n",
            "\n",
            "   city_original country_original  \n",
            "0         Munich          Germany  \n",
            "1         Leiden  the Netherlands  \n",
            "2      Amsterdam  the Netherlands  \n",
            "3          Paris           France  \n",
            "4          Paris           France  \n",
            "\n",
            "[5 rows x 26 columns]"
          ]
        }
      ],
      "source": [
        "import pandas as pd\n",
        "url ='https://raw.githubusercontent.com/tidyverse/datascience-box/refs/heads/main/course-materials/lab-instructions/lab-03/data/nobel.csv'\n",
        "df = pd.read_csv(url)\n",
        "print(df.head())"
      ],
      "id": "cell-0"
    },
    {
      "cell_type": "code",
      "execution_count": 2,
      "metadata": {},
      "outputs": [
        {
          "output_type": "display_data",
          "metadata": {},
          "data": {
            "text/html": [
              "\n",
              "<p>935 rows × 26 columns</p>\n",
              "</div>"
            ]
          }
        }
      ],
      "source": [
        "df"
      ],
      "id": "cell-1"
    },
    {
      "cell_type": "code",
      "execution_count": 3,
      "metadata": {},
      "outputs": [
        {
          "output_type": "stream",
          "name": "stdout",
          "text": [
            "<class 'pandas.core.frame.DataFrame'>\n",
            "RangeIndex: 935 entries, 0 to 934\n",
            "Data columns (total 26 columns):\n",
            " #   Column                 Non-Null Count  Dtype \n",
            "---  ------                 --------------  ----- \n",
            " 0   id                     935 non-null    int64 \n",
            " 1   firstname              935 non-null    object\n",
            " 2   surname                906 non-null    object\n",
            " 3   year                   935 non-null    int64 \n",
            " 4   category               935 non-null    object\n",
            " 5   affiliation            685 non-null    object\n",
            " 6   city                   680 non-null    object\n",
            " 7   country                681 non-null    object\n",
            " 8   born_date              902 non-null    object\n",
            " 9   died_date              627 non-null    object\n",
            " 10  gender                 935 non-null    object\n",
            " 11  born_city              907 non-null    object\n",
            " 12  born_country           907 non-null    object\n",
            " 13  born_country_code      907 non-null    object\n",
            " 14  died_city              608 non-null    object\n",
            " 15  died_country           614 non-null    object\n",
            " 16  died_country_code      614 non-null    object\n",
            " 17  overall_motivation     17 non-null     object\n",
            " 18  share                  935 non-null    int64 \n",
            " 19  motivation             935 non-null    object\n",
            " 20  born_country_original  907 non-null    object\n",
            " 21  born_city_original     907 non-null    object\n",
            " 22  died_country_original  614 non-null    object\n",
            " 23  died_city_original     608 non-null    object\n",
            " 24  city_original          680 non-null    object\n",
            " 25  country_original       681 non-null    object\n",
            "dtypes: int64(3), object(23)\n",
            "memory usage: 190.1+ KB"
          ]
        }
      ],
      "source": [
        "df.info()"
      ],
      "id": "cell-2"
    },
    {
      "cell_type": "code",
      "execution_count": 7,
      "metadata": {},
      "outputs": [
        {
          "output_type": "display_data",
          "metadata": {},
          "data": {
            "text/html": [
              "\n",
              "<p>681 rows × 26 columns</p>\n",
              "</div>"
            ]
          }
        }
      ],
      "source": [
        "df[(df['country'].notna())]"
      ],
      "id": "cell-3"
    },
    {
      "cell_type": "code",
      "execution_count": 8,
      "metadata": {},
      "outputs": [
        {
          "output_type": "display_data",
          "metadata": {},
          "data": {
            "text/html": [
              "\n",
              "<p>308 rows × 26 columns</p>\n",
              "</div>"
            ]
          }
        }
      ],
      "source": [
        "df[(df['died_date'].isna())]"
      ],
      "id": "cell-4"
    }
  ],
  "nbformat": 4,
  "nbformat_minor": 5,
  "metadata": {
    "kernelspec": {
      "name": "python3",
      "display_name": "Python 3",
      "language": "python"
    },
    "language_info": {
      "name": "python",
      "codemirror_mode": {
        "name": "ipython",
        "version": "3"
      },
      "file_extension": ".py",
      "mimetype": "text/x-python",
      "nbconvert_exporter": "python",
      "pygments_lexer": "ipython3",
      "version": "3.11.9"
    }
  }
}