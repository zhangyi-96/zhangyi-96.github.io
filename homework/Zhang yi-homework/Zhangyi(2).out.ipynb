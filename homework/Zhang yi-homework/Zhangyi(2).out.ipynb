{
  "cells": [
    {
      "cell_type": "markdown",
      "metadata": {},
      "source": [
        "#"
      ],
      "id": "85d69dea-e2e5-42f8-b89f-34d8976a4032"
    },
    {
      "cell_type": "code",
      "execution_count": null,
      "metadata": {},
      "outputs": [],
      "source": [
        "# %load Zhangyi(2).py\n",
        "import pandas as pd\n",
        "import matplotlib.pyplot as plt\n",
        "import seaborn as sns\n",
        "\n",
        "# 读取 CSV 文件\n",
        "df = pd.read_csv('plastic-waste.csv')\n",
        "\n",
        "# 清理数据：去除缺失值\n",
        "df_cleaned = df.dropna(subset=['continent', 'plastic_waste_per_cap'])\n",
        "\n",
        "# 设置图形风格\n",
        "sns.set(style=\"whitegrid\")\n",
        "\n",
        "# 创建 FacetGrid，按 'continent' 分面\n",
        "g = sns.FacetGrid(df_cleaned, col='continent', col_wrap=3, height=4, sharey=False)\n",
        "g.map(sns.violinplot, 'plastic_waste_per_cap', color='blue')\n",
        "\n",
        "# 设置图表标题和坐标轴标签\n",
        "g.set_titles(\"{col_name} Plastic Waste Per Capita Violin Plot\")\n",
        "g.set_axis_labels(\"Plastic Waste Per Capita (kg)\", \"Density\")\n",
        "g.fig.suptitle(\"Violin Plot of Plastic Waste Per Capita by Continent\", fontsize=16)\n",
        "g.tight_layout(pad=2)\n",
        "\n",
        "# 显示图形\n",
        "plt.show()"
      ],
      "id": "6c60f8e6-0213-4a65-8e46-04f7d825aa21"
    }
  ],
  "nbformat": 4,
  "nbformat_minor": 5,
  "metadata": {
    "kernelspec": {
      "name": "python3",
      "display_name": "Python 3 (ipykernel)",
      "language": "python"
    },
    "language_info": {
      "name": "python",
      "codemirror_mode": {
        "name": "ipython",
        "version": "3"
      },
      "file_extension": ".py",
      "mimetype": "text/x-python",
      "nbconvert_exporter": "python",
      "pygments_lexer": "ipython3",
      "version": "3.12.4"
    }
  }
}