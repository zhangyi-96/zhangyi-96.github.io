{
  "cells": [
    {
      "cell_type": "markdown",
      "metadata": {},
      "source": [
        "#"
      ],
      "id": "9a3c7fe2-0efc-49a8-a548-67ef7a392fe1"
    },
    {
      "cell_type": "code",
      "execution_count": null,
      "metadata": {},
      "outputs": [],
      "source": [
        "# %load Zhangyi(3).py\n",
        "import pandas as pd\n",
        "import matplotlib.pyplot as plt\n",
        "import seaborn as sns\n",
        "\n",
        "# 读取 CSV 文件\n",
        "df = pd.read_csv('plastic-waste.csv')\n",
        "\n",
        "# 清理数据：去除缺失值\n",
        "df_cleaned = df.dropna(subset=['continent', 'plastic_waste_per_cap', 'mismanaged_plastic_waste_per_cap'])\n",
        "\n",
        "# 绘制散点图\n",
        "plt.figure(figsize=(10, 6))\n",
        "sns.scatterplot(x='plastic_waste_per_cap', y='mismanaged_plastic_waste_per_cap', hue='continent', data=df_cleaned, palette='deep')\n",
        "\n",
        "# 设置图表标题和坐标轴标签\n",
        "plt.title(\"Relationship between Plastic Waste Per Capita and Mismanaged Plastic Waste Per Capita\")\n",
        "plt.xlabel(\"Plastic Waste Per Capita (kg)\")\n",
        "plt.ylabel(\"Mismanaged Plastic Waste Per Capita (kg)\")\n",
        "\n",
        "# 显示图例\n",
        "plt.legend(title='Continent')\n",
        "\n",
        "# 显示图形\n",
        "plt.show()"
      ],
      "id": "9cecafbb-be8d-4c20-ac34-a192bb07334f"
    }
  ],
  "nbformat": 4,
  "nbformat_minor": 5,
  "metadata": {
    "kernelspec": {
      "name": "python3",
      "display_name": "Python 3 (ipykernel)",
      "language": "python"
    },
    "language_info": {
      "name": "python",
      "codemirror_mode": {
        "name": "ipython",
        "version": "3"
      },
      "file_extension": ".py",
      "mimetype": "text/x-python",
      "nbconvert_exporter": "python",
      "pygments_lexer": "ipython3",
      "version": "3.12.4"
    }
  }
}